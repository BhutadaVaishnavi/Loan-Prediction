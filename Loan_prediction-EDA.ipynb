{
 "cells": [
  {
   "cell_type": "code",
   "execution_count": 1,
   "id": "67d0973c-59a0-46f4-900b-41c93af4524f",
   "metadata": {},
   "outputs": [],
   "source": [
    "# Variable \t                      Description\n",
    "# Loan_ID\t                      Unique Loan ID\n",
    "# Gender\t                      Male/ Female\n",
    "# Married\t                      Applicant married (Y/N)\n",
    "# Dependents\t                  Number of dependents\n",
    "# Education\t                      Applicant Education (Graduate/ Under Graduate)\n",
    "# Self_Employed\t                  Self employed (Y/N)\n",
    "# ApplicantIncome\t              Applicant income\n",
    "# CoapplicantIncome\t              Coapplicant income\n",
    "# LoanAmount\t                  Loan amount in thousands\n",
    "# Loan_Amount_Term\t              Term of loan in months\n",
    "# Credit_History\t              credit history meets guidelines\n",
    "# Property_Area\t                  Urban/ Semi Urban/ Rural\n",
    "# Loan_Status\t                  (Target) Loan approved (Y/N)"
   ]
  },
  {
   "cell_type": "code",
   "execution_count": 2,
   "id": "d609ec25-14bb-47bf-8007-5bf56c8569fa",
   "metadata": {},
   "outputs": [],
   "source": [
    "import pandas as pd\n",
    "import numpy as np\n",
    "import matplotlib.pyplot as plt\n",
    "import seaborn as sns"
   ]
  },
  {
   "cell_type": "code",
   "execution_count": 3,
   "id": "44480286-d605-417b-bb00-da0db15f8021",
   "metadata": {},
   "outputs": [
    {
     "data": {
      "text/html": [
       "<div>\n",
       "<style scoped>\n",
       "    .dataframe tbody tr th:only-of-type {\n",
       "        vertical-align: middle;\n",
       "    }\n",
       "\n",
       "    .dataframe tbody tr th {\n",
       "        vertical-align: top;\n",
       "    }\n",
       "\n",
       "    .dataframe thead th {\n",
       "        text-align: right;\n",
       "    }\n",
       "</style>\n",
       "<table border=\"1\" class=\"dataframe\">\n",
       "  <thead>\n",
       "    <tr style=\"text-align: right;\">\n",
       "      <th></th>\n",
       "      <th>Loan_ID</th>\n",
       "      <th>Gender</th>\n",
       "      <th>Married</th>\n",
       "      <th>Dependents</th>\n",
       "      <th>Education</th>\n",
       "      <th>Self_Employed</th>\n",
       "      <th>ApplicantIncome</th>\n",
       "      <th>CoapplicantIncome</th>\n",
       "      <th>LoanAmount</th>\n",
       "      <th>Loan_Amount_Term</th>\n",
       "      <th>Credit_History</th>\n",
       "      <th>Property_Area</th>\n",
       "      <th>Loan_Status</th>\n",
       "    </tr>\n",
       "  </thead>\n",
       "  <tbody>\n",
       "    <tr>\n",
       "      <th>0</th>\n",
       "      <td>LP001002</td>\n",
       "      <td>Male</td>\n",
       "      <td>No</td>\n",
       "      <td>0</td>\n",
       "      <td>Graduate</td>\n",
       "      <td>No</td>\n",
       "      <td>5849</td>\n",
       "      <td>0.0</td>\n",
       "      <td>NaN</td>\n",
       "      <td>360.0</td>\n",
       "      <td>1.0</td>\n",
       "      <td>Urban</td>\n",
       "      <td>Y</td>\n",
       "    </tr>\n",
       "    <tr>\n",
       "      <th>1</th>\n",
       "      <td>LP001003</td>\n",
       "      <td>Male</td>\n",
       "      <td>Yes</td>\n",
       "      <td>1</td>\n",
       "      <td>Graduate</td>\n",
       "      <td>No</td>\n",
       "      <td>4583</td>\n",
       "      <td>1508.0</td>\n",
       "      <td>128.0</td>\n",
       "      <td>360.0</td>\n",
       "      <td>1.0</td>\n",
       "      <td>Rural</td>\n",
       "      <td>N</td>\n",
       "    </tr>\n",
       "    <tr>\n",
       "      <th>2</th>\n",
       "      <td>LP001005</td>\n",
       "      <td>Male</td>\n",
       "      <td>Yes</td>\n",
       "      <td>0</td>\n",
       "      <td>Graduate</td>\n",
       "      <td>Yes</td>\n",
       "      <td>3000</td>\n",
       "      <td>0.0</td>\n",
       "      <td>66.0</td>\n",
       "      <td>360.0</td>\n",
       "      <td>1.0</td>\n",
       "      <td>Urban</td>\n",
       "      <td>Y</td>\n",
       "    </tr>\n",
       "    <tr>\n",
       "      <th>3</th>\n",
       "      <td>LP001006</td>\n",
       "      <td>Male</td>\n",
       "      <td>Yes</td>\n",
       "      <td>0</td>\n",
       "      <td>Not Graduate</td>\n",
       "      <td>No</td>\n",
       "      <td>2583</td>\n",
       "      <td>2358.0</td>\n",
       "      <td>120.0</td>\n",
       "      <td>360.0</td>\n",
       "      <td>1.0</td>\n",
       "      <td>Urban</td>\n",
       "      <td>Y</td>\n",
       "    </tr>\n",
       "    <tr>\n",
       "      <th>4</th>\n",
       "      <td>LP001008</td>\n",
       "      <td>Male</td>\n",
       "      <td>No</td>\n",
       "      <td>0</td>\n",
       "      <td>Graduate</td>\n",
       "      <td>No</td>\n",
       "      <td>6000</td>\n",
       "      <td>0.0</td>\n",
       "      <td>141.0</td>\n",
       "      <td>360.0</td>\n",
       "      <td>1.0</td>\n",
       "      <td>Urban</td>\n",
       "      <td>Y</td>\n",
       "    </tr>\n",
       "    <tr>\n",
       "      <th>...</th>\n",
       "      <td>...</td>\n",
       "      <td>...</td>\n",
       "      <td>...</td>\n",
       "      <td>...</td>\n",
       "      <td>...</td>\n",
       "      <td>...</td>\n",
       "      <td>...</td>\n",
       "      <td>...</td>\n",
       "      <td>...</td>\n",
       "      <td>...</td>\n",
       "      <td>...</td>\n",
       "      <td>...</td>\n",
       "      <td>...</td>\n",
       "    </tr>\n",
       "    <tr>\n",
       "      <th>609</th>\n",
       "      <td>LP002978</td>\n",
       "      <td>Female</td>\n",
       "      <td>No</td>\n",
       "      <td>0</td>\n",
       "      <td>Graduate</td>\n",
       "      <td>No</td>\n",
       "      <td>2900</td>\n",
       "      <td>0.0</td>\n",
       "      <td>71.0</td>\n",
       "      <td>360.0</td>\n",
       "      <td>1.0</td>\n",
       "      <td>Rural</td>\n",
       "      <td>Y</td>\n",
       "    </tr>\n",
       "    <tr>\n",
       "      <th>610</th>\n",
       "      <td>LP002979</td>\n",
       "      <td>Male</td>\n",
       "      <td>Yes</td>\n",
       "      <td>3+</td>\n",
       "      <td>Graduate</td>\n",
       "      <td>No</td>\n",
       "      <td>4106</td>\n",
       "      <td>0.0</td>\n",
       "      <td>40.0</td>\n",
       "      <td>180.0</td>\n",
       "      <td>1.0</td>\n",
       "      <td>Rural</td>\n",
       "      <td>Y</td>\n",
       "    </tr>\n",
       "    <tr>\n",
       "      <th>611</th>\n",
       "      <td>LP002983</td>\n",
       "      <td>Male</td>\n",
       "      <td>Yes</td>\n",
       "      <td>1</td>\n",
       "      <td>Graduate</td>\n",
       "      <td>No</td>\n",
       "      <td>8072</td>\n",
       "      <td>240.0</td>\n",
       "      <td>253.0</td>\n",
       "      <td>360.0</td>\n",
       "      <td>1.0</td>\n",
       "      <td>Urban</td>\n",
       "      <td>Y</td>\n",
       "    </tr>\n",
       "    <tr>\n",
       "      <th>612</th>\n",
       "      <td>LP002984</td>\n",
       "      <td>Male</td>\n",
       "      <td>Yes</td>\n",
       "      <td>2</td>\n",
       "      <td>Graduate</td>\n",
       "      <td>No</td>\n",
       "      <td>7583</td>\n",
       "      <td>0.0</td>\n",
       "      <td>187.0</td>\n",
       "      <td>360.0</td>\n",
       "      <td>1.0</td>\n",
       "      <td>Urban</td>\n",
       "      <td>Y</td>\n",
       "    </tr>\n",
       "    <tr>\n",
       "      <th>613</th>\n",
       "      <td>LP002990</td>\n",
       "      <td>Female</td>\n",
       "      <td>No</td>\n",
       "      <td>0</td>\n",
       "      <td>Graduate</td>\n",
       "      <td>Yes</td>\n",
       "      <td>4583</td>\n",
       "      <td>0.0</td>\n",
       "      <td>133.0</td>\n",
       "      <td>360.0</td>\n",
       "      <td>0.0</td>\n",
       "      <td>Semiurban</td>\n",
       "      <td>N</td>\n",
       "    </tr>\n",
       "  </tbody>\n",
       "</table>\n",
       "<p>614 rows × 13 columns</p>\n",
       "</div>"
      ],
      "text/plain": [
       "      Loan_ID  Gender Married Dependents     Education Self_Employed  \\\n",
       "0    LP001002    Male      No          0      Graduate            No   \n",
       "1    LP001003    Male     Yes          1      Graduate            No   \n",
       "2    LP001005    Male     Yes          0      Graduate           Yes   \n",
       "3    LP001006    Male     Yes          0  Not Graduate            No   \n",
       "4    LP001008    Male      No          0      Graduate            No   \n",
       "..        ...     ...     ...        ...           ...           ...   \n",
       "609  LP002978  Female      No          0      Graduate            No   \n",
       "610  LP002979    Male     Yes         3+      Graduate            No   \n",
       "611  LP002983    Male     Yes          1      Graduate            No   \n",
       "612  LP002984    Male     Yes          2      Graduate            No   \n",
       "613  LP002990  Female      No          0      Graduate           Yes   \n",
       "\n",
       "     ApplicantIncome  CoapplicantIncome  LoanAmount  Loan_Amount_Term  \\\n",
       "0               5849                0.0         NaN             360.0   \n",
       "1               4583             1508.0       128.0             360.0   \n",
       "2               3000                0.0        66.0             360.0   \n",
       "3               2583             2358.0       120.0             360.0   \n",
       "4               6000                0.0       141.0             360.0   \n",
       "..               ...                ...         ...               ...   \n",
       "609             2900                0.0        71.0             360.0   \n",
       "610             4106                0.0        40.0             180.0   \n",
       "611             8072              240.0       253.0             360.0   \n",
       "612             7583                0.0       187.0             360.0   \n",
       "613             4583                0.0       133.0             360.0   \n",
       "\n",
       "     Credit_History Property_Area Loan_Status  \n",
       "0               1.0         Urban           Y  \n",
       "1               1.0         Rural           N  \n",
       "2               1.0         Urban           Y  \n",
       "3               1.0         Urban           Y  \n",
       "4               1.0         Urban           Y  \n",
       "..              ...           ...         ...  \n",
       "609             1.0         Rural           Y  \n",
       "610             1.0         Rural           Y  \n",
       "611             1.0         Urban           Y  \n",
       "612             1.0         Urban           Y  \n",
       "613             0.0     Semiurban           N  \n",
       "\n",
       "[614 rows x 13 columns]"
      ]
     },
     "execution_count": 3,
     "metadata": {},
     "output_type": "execute_result"
    }
   ],
   "source": [
    "df=pd.read_csv('train_ctrUa4K.csv')\n",
    "df"
   ]
  },
  {
   "cell_type": "code",
   "execution_count": 4,
   "id": "ff938387-f63e-4fd2-b8a9-1e8724b70a87",
   "metadata": {},
   "outputs": [
    {
     "data": {
      "text/plain": [
       "Index(['Loan_ID', 'Gender', 'Married', 'Dependents', 'Education',\n",
       "       'Self_Employed', 'ApplicantIncome', 'CoapplicantIncome', 'LoanAmount',\n",
       "       'Loan_Amount_Term', 'Credit_History', 'Property_Area', 'Loan_Status'],\n",
       "      dtype='object')"
      ]
     },
     "execution_count": 4,
     "metadata": {},
     "output_type": "execute_result"
    }
   ],
   "source": [
    "df.columns"
   ]
  },
  {
   "cell_type": "code",
   "execution_count": 5,
   "id": "6391b230-38fd-47f6-a774-623cd682bc48",
   "metadata": {},
   "outputs": [
    {
     "name": "stdout",
     "output_type": "stream",
     "text": [
      "<class 'pandas.core.frame.DataFrame'>\n",
      "RangeIndex: 614 entries, 0 to 613\n",
      "Data columns (total 13 columns):\n",
      " #   Column             Non-Null Count  Dtype  \n",
      "---  ------             --------------  -----  \n",
      " 0   Loan_ID            614 non-null    object \n",
      " 1   Gender             601 non-null    object \n",
      " 2   Married            611 non-null    object \n",
      " 3   Dependents         599 non-null    object \n",
      " 4   Education          614 non-null    object \n",
      " 5   Self_Employed      582 non-null    object \n",
      " 6   ApplicantIncome    614 non-null    int64  \n",
      " 7   CoapplicantIncome  614 non-null    float64\n",
      " 8   LoanAmount         592 non-null    float64\n",
      " 9   Loan_Amount_Term   600 non-null    float64\n",
      " 10  Credit_History     564 non-null    float64\n",
      " 11  Property_Area      614 non-null    object \n",
      " 12  Loan_Status        614 non-null    object \n",
      "dtypes: float64(4), int64(1), object(8)\n",
      "memory usage: 62.5+ KB\n"
     ]
    }
   ],
   "source": [
    "df.info()"
   ]
  },
  {
   "cell_type": "code",
   "execution_count": 6,
   "id": "a2b57a24-27bc-4f11-bf22-dc0c3814ad33",
   "metadata": {},
   "outputs": [
    {
     "data": {
      "text/plain": [
       "(614, 13)"
      ]
     },
     "execution_count": 6,
     "metadata": {},
     "output_type": "execute_result"
    }
   ],
   "source": [
    "df.shape"
   ]
  },
  {
   "cell_type": "code",
   "execution_count": 7,
   "id": "8bd027f6-aeaa-4105-bc62-4e835c7323f2",
   "metadata": {},
   "outputs": [
    {
     "data": {
      "text/plain": [
       "Loan_ID               0\n",
       "Gender               13\n",
       "Married               3\n",
       "Dependents           15\n",
       "Education             0\n",
       "Self_Employed        32\n",
       "ApplicantIncome       0\n",
       "CoapplicantIncome     0\n",
       "LoanAmount           22\n",
       "Loan_Amount_Term     14\n",
       "Credit_History       50\n",
       "Property_Area         0\n",
       "Loan_Status           0\n",
       "dtype: int64"
      ]
     },
     "execution_count": 7,
     "metadata": {},
     "output_type": "execute_result"
    }
   ],
   "source": [
    "df.isnull().sum()"
   ]
  },
  {
   "cell_type": "code",
   "execution_count": 8,
   "id": "ed543b62-dbb8-455d-8a5a-5b583c34fbd0",
   "metadata": {},
   "outputs": [
    {
     "data": {
      "text/plain": [
       "Loan_ID              0.000000\n",
       "Gender               2.117264\n",
       "Married              0.488599\n",
       "Dependents           2.442997\n",
       "Education            0.000000\n",
       "Self_Employed        5.211726\n",
       "ApplicantIncome      0.000000\n",
       "CoapplicantIncome    0.000000\n",
       "LoanAmount           3.583062\n",
       "Loan_Amount_Term     2.280130\n",
       "Credit_History       8.143322\n",
       "Property_Area        0.000000\n",
       "Loan_Status          0.000000\n",
       "dtype: float64"
      ]
     },
     "execution_count": 8,
     "metadata": {},
     "output_type": "execute_result"
    }
   ],
   "source": [
    "df.isnull().sum()*100/614"
   ]
  },
  {
   "cell_type": "code",
   "execution_count": 9,
   "id": "25d9efc8-49ab-4a29-93d5-ea9819339515",
   "metadata": {},
   "outputs": [
    {
     "data": {
      "text/plain": [
       "Credit_History\n",
       "1.0    475\n",
       "0.0     89\n",
       "Name: count, dtype: int64"
      ]
     },
     "execution_count": 9,
     "metadata": {},
     "output_type": "execute_result"
    }
   ],
   "source": [
    "df['Credit_History'].value_counts()"
   ]
  },
  {
   "cell_type": "code",
   "execution_count": 10,
   "id": "5439512d-d98b-4f6c-94a6-273f702e26d1",
   "metadata": {},
   "outputs": [],
   "source": [
    "df.dropna(subset=['Credit_History','Self_Employed','LoanAmount','Loan_Amount_Term'],inplace=True)"
   ]
  },
  {
   "cell_type": "code",
   "execution_count": 11,
   "id": "6fa1e3b6-876c-49ad-a521-4b5b4b29be33",
   "metadata": {},
   "outputs": [
    {
     "data": {
      "text/plain": [
       "Loan_ID               0\n",
       "Gender               12\n",
       "Married               2\n",
       "Dependents           12\n",
       "Education             0\n",
       "Self_Employed         0\n",
       "ApplicantIncome       0\n",
       "CoapplicantIncome     0\n",
       "LoanAmount            0\n",
       "Loan_Amount_Term      0\n",
       "Credit_History        0\n",
       "Property_Area         0\n",
       "Loan_Status           0\n",
       "dtype: int64"
      ]
     },
     "execution_count": 11,
     "metadata": {},
     "output_type": "execute_result"
    }
   ],
   "source": [
    "df.isnull().sum()"
   ]
  },
  {
   "cell_type": "code",
   "execution_count": 12,
   "id": "3c63bb5a-6cc3-46e6-b590-c6288687c86e",
   "metadata": {},
   "outputs": [
    {
     "data": {
      "text/plain": [
       "Loan_Amount_Term\n",
       "360.0    430\n",
       "180.0     38\n",
       "480.0     14\n",
       "300.0     10\n",
       "120.0      3\n",
       "84.0       3\n",
       "60.0       2\n",
       "240.0      2\n",
       "36.0       2\n",
       "Name: count, dtype: int64"
      ]
     },
     "execution_count": 12,
     "metadata": {},
     "output_type": "execute_result"
    }
   ],
   "source": [
    "df['Loan_Amount_Term'].value_counts()"
   ]
  },
  {
   "cell_type": "code",
   "execution_count": 13,
   "id": "03aeb6aa-f581-4697-9d95-5b196b440c4e",
   "metadata": {},
   "outputs": [
    {
     "data": {
      "text/plain": [
       "Loan_Status\n",
       "Y    345\n",
       "N    159\n",
       "Name: count, dtype: int64"
      ]
     },
     "execution_count": 13,
     "metadata": {},
     "output_type": "execute_result"
    }
   ],
   "source": [
    "df['Loan_Status'].value_counts()"
   ]
  },
  {
   "cell_type": "code",
   "execution_count": 14,
   "id": "ad7b2feb-166a-4744-a004-04f570c0c116",
   "metadata": {},
   "outputs": [],
   "source": [
    "df['Gender'].fillna(df['Gender'].mode()[0],inplace=True)"
   ]
  },
  {
   "cell_type": "code",
   "execution_count": 15,
   "id": "54016fa5-bdef-45cb-8a02-5673108dac28",
   "metadata": {},
   "outputs": [],
   "source": [
    "df['Married'].fillna(df['Married'].mode()[0],inplace=True)"
   ]
  },
  {
   "cell_type": "code",
   "execution_count": 16,
   "id": "6f97e007-a18c-4ed0-b13d-9aa695410677",
   "metadata": {},
   "outputs": [],
   "source": [
    "df['Dependents'].fillna(df['Dependents'].mode()[0],inplace=True)"
   ]
  },
  {
   "cell_type": "code",
   "execution_count": 17,
   "id": "112e5f14-d40f-45f1-b558-05fdd3b8d57c",
   "metadata": {},
   "outputs": [
    {
     "data": {
      "text/plain": [
       "(504, 13)"
      ]
     },
     "execution_count": 17,
     "metadata": {},
     "output_type": "execute_result"
    }
   ],
   "source": [
    "df.shape"
   ]
  },
  {
   "cell_type": "code",
   "execution_count": 18,
   "id": "0359bc8e-7117-4d4b-a486-999b0420cc45",
   "metadata": {},
   "outputs": [
    {
     "name": "stdout",
     "output_type": "stream",
     "text": [
      "<class 'pandas.core.frame.DataFrame'>\n",
      "Index: 504 entries, 1 to 613\n",
      "Data columns (total 13 columns):\n",
      " #   Column             Non-Null Count  Dtype  \n",
      "---  ------             --------------  -----  \n",
      " 0   Loan_ID            504 non-null    object \n",
      " 1   Gender             504 non-null    object \n",
      " 2   Married            504 non-null    object \n",
      " 3   Dependents         504 non-null    object \n",
      " 4   Education          504 non-null    object \n",
      " 5   Self_Employed      504 non-null    object \n",
      " 6   ApplicantIncome    504 non-null    int64  \n",
      " 7   CoapplicantIncome  504 non-null    float64\n",
      " 8   LoanAmount         504 non-null    float64\n",
      " 9   Loan_Amount_Term   504 non-null    float64\n",
      " 10  Credit_History     504 non-null    float64\n",
      " 11  Property_Area      504 non-null    object \n",
      " 12  Loan_Status        504 non-null    object \n",
      "dtypes: float64(4), int64(1), object(8)\n",
      "memory usage: 55.1+ KB\n"
     ]
    }
   ],
   "source": [
    "df.info()"
   ]
  },
  {
   "cell_type": "code",
   "execution_count": 19,
   "id": "56bdb754-685e-4478-9748-15d64c7acf8a",
   "metadata": {},
   "outputs": [
    {
     "data": {
      "text/plain": [
       "<Axes: xlabel='Gender', ylabel='count'>"
      ]
     },
     "execution_count": 19,
     "metadata": {},
     "output_type": "execute_result"
    },
    {
     "data": {
      "image/png": "[encoded data removed]",
      "text/plain": [
       "<Figure size 640x480 with 1 Axes>"
      ]
     },
     "metadata": {},
     "output_type": "display_data"
    }
   ],
   "source": [
    "sns.countplot(data=df, x='Gender', hue='Loan_Status')"
   ]
  },
  {
   "cell_type": "code",
   "execution_count": 20,
   "id": "8f87ed49-fae4-4799-9d7e-c83281506566",
   "metadata": {},
   "outputs": [
    {
     "data": {
      "text/plain": [
       "<Axes: xlabel='Dependents', ylabel='count'>"
      ]
     },
     "execution_count": 20,
     "metadata": {},
     "output_type": "execute_result"
    },
    {
     "data": {
      "image/png": "[encoded data removed]",
      "text/plain": [
       "<Figure size 640x480 with 1 Axes>"
      ]
     },
     "metadata": {},
     "output_type": "display_data"
    }
   ],
   "source": [
    "sns.countplot(data=df, x='Dependents', hue='Loan_Status')"
   ]
  },
  {
   "cell_type": "code",
   "execution_count": 21,
   "id": "5f832677-2f08-4bc9-aa74-6ec976623242",
   "metadata": {},
   "outputs": [
    {
     "data": {
      "text/plain": [
       "<Axes: xlabel='Married', ylabel='count'>"
      ]
     },
     "execution_count": 21,
     "metadata": {},
     "output_type": "execute_result"
    },
    {
     "data": {
      "image/png": "[encoded data removed]",
      "text/plain": [
       "<Figure size 640x480 with 1 Axes>"
      ]
     },
     "metadata": {},
     "output_type": "display_data"
    }
   ],
   "source": [
    "sns.countplot(data=df, x='Married', hue='Loan_Status')"
   ]
  },
  {
   "cell_type": "code",
   "execution_count": 22,
   "id": "144401a7-988f-4db9-b123-86c4ad8239b7",
   "metadata": {},
   "outputs": [
    {
     "data": {
      "text/plain": [
       "<Axes: xlabel='Education', ylabel='count'>"
      ]
     },
     "execution_count": 22,
     "metadata": {},
     "output_type": "execute_result"
    },
    {
     "data": {
      "image/png": "[encoded data removed]",
      "text/plain": [
       "<Figure size 640x480 with 1 Axes>"
      ]
     },
     "metadata": {},
     "output_type": "display_data"
    }
   ],
   "source": [
    "sns.countplot(data=df, x='Education', hue='Loan_Status')"
   ]
  },
  {
   "cell_type": "code",
   "execution_count": 23,
   "id": "cb80725b-221d-4d08-b1dc-66416a50d40d",
   "metadata": {},
   "outputs": [
    {
     "data": {
      "text/plain": [
       "<Axes: xlabel='Self_Employed', ylabel='count'>"
      ]
     },
     "execution_count": 23,
     "metadata": {},
     "output_type": "execute_result"
    },
    {
     "data": {
      "image/png": "[encoded data removed]",
      "text/plain": [
       "<Figure size 640x480 with 1 Axes>"
      ]
     },
     "metadata": {},
     "output_type": "display_data"
    }
   ],
   "source": [
    "sns.countplot(data=df, x='Self_Employed', hue='Loan_Status')"
   ]
  },
  {
   "cell_type": "code",
   "execution_count": 24,
   "id": "175f783c-ef06-4e8c-a36e-f74ee17d06d5",
   "metadata": {},
   "outputs": [
    {
     "data": {
      "text/plain": [
       "<Axes: xlabel='Property_Area', ylabel='count'>"
      ]
     },
     "execution_count": 24,
     "metadata": {},
     "output_type": "execute_result"
    },
    {
     "data": {
      "image/png": "[encoded data removed]",
      "text/plain": [
       "<Figure size 640x480 with 1 Axes>"
      ]
     },
     "metadata": {},
     "output_type": "display_data"
    }
   ],
   "source": [
    "sns.countplot(data=df, x='Property_Area', hue='Loan_Status')"
   ]
  },
  {
   "cell_type": "code",
   "execution_count": 25,
   "id": "e2ddf965-b6bf-4a1a-bc11-e6ef4836ee6b",
   "metadata": {},
   "outputs": [
    {
     "data": {
      "text/plain": [
       "<Axes: xlabel='Loan_Amount_Term', ylabel='count'>"
      ]
     },
     "execution_count": 25,
     "metadata": {},
     "output_type": "execute_result"
    },
    {
     "data": {
      "image/png": "[encoded data removed]",
      "text/plain": [
       "<Figure size 640x480 with 1 Axes>"
      ]
     },
     "metadata": {},
     "output_type": "display_data"
    }
   ],
   "source": [
    "sns.countplot(data=df, x='Loan_Amount_Term', hue='Loan_Status')"
   ]
  },
  {
   "cell_type": "code",
   "execution_count": 26,
   "id": "9de23e9e-b01b-4bb3-ab7e-ca542a31118d",
   "metadata": {},
   "outputs": [
    {
     "data": {
      "text/plain": [
       "<Axes: xlabel='Credit_History', ylabel='count'>"
      ]
     },
     "execution_count": 26,
     "metadata": {},
     "output_type": "execute_result"
    },
    {
     "data": {
      "image/png": "[encoded data removed]",
      "text/plain": [
       "<Figure size 640x480 with 1 Axes>"
      ]
     },
     "metadata": {},
     "output_type": "display_data"
    }
   ],
   "source": [
    "sns.countplot(data=df, x='Credit_History', hue='Loan_Status')"
   ]
  },
  {
   "cell_type": "code",
   "execution_count": 27,
   "id": "3ceba248-b712-46b8-bd18-28bb3a01c294",
   "metadata": {},
   "outputs": [
    {
     "data": {
      "text/html": [
       "<div>\n",
       "<style scoped>\n",
       "    .dataframe tbody tr th:only-of-type {\n",
       "        vertical-align: middle;\n",
       "    }\n",
       "\n",
       "    .dataframe tbody tr th {\n",
       "        vertical-align: top;\n",
       "    }\n",
       "\n",
       "    .dataframe thead th {\n",
       "        text-align: right;\n",
       "    }\n",
       "</style>\n",
       "<table border=\"1\" class=\"dataframe\">\n",
       "  <thead>\n",
       "    <tr style=\"text-align: right;\">\n",
       "      <th></th>\n",
       "      <th>Gender</th>\n",
       "      <th>Married</th>\n",
       "      <th>Dependents</th>\n",
       "      <th>Count</th>\n",
       "    </tr>\n",
       "  </thead>\n",
       "  <tbody>\n",
       "    <tr>\n",
       "      <th>0</th>\n",
       "      <td>Female</td>\n",
       "      <td>No</td>\n",
       "      <td>0</td>\n",
       "      <td>52</td>\n",
       "    </tr>\n",
       "    <tr>\n",
       "      <th>1</th>\n",
       "      <td>Female</td>\n",
       "      <td>No</td>\n",
       "      <td>1</td>\n",
       "      <td>9</td>\n",
       "    </tr>\n",
       "    <tr>\n",
       "      <th>2</th>\n",
       "      <td>Female</td>\n",
       "      <td>No</td>\n",
       "      <td>2</td>\n",
       "      <td>1</td>\n",
       "    </tr>\n",
       "    <tr>\n",
       "      <th>3</th>\n",
       "      <td>Female</td>\n",
       "      <td>No</td>\n",
       "      <td>3+</td>\n",
       "      <td>1</td>\n",
       "    </tr>\n",
       "    <tr>\n",
       "      <th>4</th>\n",
       "      <td>Female</td>\n",
       "      <td>Yes</td>\n",
       "      <td>0</td>\n",
       "      <td>16</td>\n",
       "    </tr>\n",
       "    <tr>\n",
       "      <th>5</th>\n",
       "      <td>Female</td>\n",
       "      <td>Yes</td>\n",
       "      <td>1</td>\n",
       "      <td>6</td>\n",
       "    </tr>\n",
       "    <tr>\n",
       "      <th>6</th>\n",
       "      <td>Female</td>\n",
       "      <td>Yes</td>\n",
       "      <td>2</td>\n",
       "      <td>3</td>\n",
       "    </tr>\n",
       "    <tr>\n",
       "      <th>7</th>\n",
       "      <td>Male</td>\n",
       "      <td>No</td>\n",
       "      <td>0</td>\n",
       "      <td>97</td>\n",
       "    </tr>\n",
       "    <tr>\n",
       "      <th>8</th>\n",
       "      <td>Male</td>\n",
       "      <td>No</td>\n",
       "      <td>1</td>\n",
       "      <td>6</td>\n",
       "    </tr>\n",
       "    <tr>\n",
       "      <th>9</th>\n",
       "      <td>Male</td>\n",
       "      <td>No</td>\n",
       "      <td>2</td>\n",
       "      <td>6</td>\n",
       "    </tr>\n",
       "    <tr>\n",
       "      <th>10</th>\n",
       "      <td>Male</td>\n",
       "      <td>No</td>\n",
       "      <td>3+</td>\n",
       "      <td>4</td>\n",
       "    </tr>\n",
       "    <tr>\n",
       "      <th>11</th>\n",
       "      <td>Male</td>\n",
       "      <td>Yes</td>\n",
       "      <td>0</td>\n",
       "      <td>127</td>\n",
       "    </tr>\n",
       "    <tr>\n",
       "      <th>12</th>\n",
       "      <td>Male</td>\n",
       "      <td>Yes</td>\n",
       "      <td>1</td>\n",
       "      <td>60</td>\n",
       "    </tr>\n",
       "    <tr>\n",
       "      <th>13</th>\n",
       "      <td>Male</td>\n",
       "      <td>Yes</td>\n",
       "      <td>2</td>\n",
       "      <td>77</td>\n",
       "    </tr>\n",
       "    <tr>\n",
       "      <th>14</th>\n",
       "      <td>Male</td>\n",
       "      <td>Yes</td>\n",
       "      <td>3+</td>\n",
       "      <td>39</td>\n",
       "    </tr>\n",
       "  </tbody>\n",
       "</table>\n",
       "</div>"
      ],
      "text/plain": [
       "    Gender Married Dependents  Count\n",
       "0   Female      No          0     52\n",
       "1   Female      No          1      9\n",
       "2   Female      No          2      1\n",
       "3   Female      No         3+      1\n",
       "4   Female     Yes          0     16\n",
       "5   Female     Yes          1      6\n",
       "6   Female     Yes          2      3\n",
       "7     Male      No          0     97\n",
       "8     Male      No          1      6\n",
       "9     Male      No          2      6\n",
       "10    Male      No         3+      4\n",
       "11    Male     Yes          0    127\n",
       "12    Male     Yes          1     60\n",
       "13    Male     Yes          2     77\n",
       "14    Male     Yes         3+     39"
      ]
     },
     "execution_count": 27,
     "metadata": {},
     "output_type": "execute_result"
    }
   ],
   "source": [
    "grouped = df.groupby(['Gender', 'Married', 'Dependents']).size().reset_index(name='Count')\n",
    "grouped\n",
    "# sns.barplot(data=grouped, x='Count', y=df['Loan_Status'])"
   ]
  },
  {
   "cell_type": "code",
   "execution_count": 28,
   "id": "921d23bf-5822-4d93-93d0-ffecce511a74",
   "metadata": {},
   "outputs": [
    {
     "data": {
      "text/plain": [
       "<Axes: xlabel='Loan_Status', ylabel='LoanAmount'>"
      ]
     },
     "execution_count": 28,
     "metadata": {},
     "output_type": "execute_result"
    },
    {
     "data": {
      "image/png": "[encoded data removed]",
      "text/plain": [
       "<Figure size 640x480 with 1 Axes>"
      ]
     },
     "metadata": {},
     "output_type": "display_data"
    }
   ],
   "source": [
    "sns.barplot(data=df, x=\"Loan_Status\", y=\"LoanAmount\")"
   ]
  },
  {
   "cell_type": "code",
   "execution_count": 29,
   "id": "f1942a5e-e290-4f7d-96d3-e54f416abd0c",
   "metadata": {},
   "outputs": [
    {
     "data": {
      "text/plain": [
       "<Axes: xlabel='CoapplicantIncome', ylabel='LoanAmount'>"
      ]
     },
     "execution_count": 29,
     "metadata": {},
     "output_type": "execute_result"
    },
    {
     "data": {
      "image/png": "[encoded data removed]",
      "text/plain": [
       "<Figure size 640x480 with 1 Axes>"
      ]
     },
     "metadata": {},
     "output_type": "display_data"
    }
   ],
   "source": [
    "sns.scatterplot(data=df,x=\"CoapplicantIncome\",y='LoanAmount',hue='Loan_Status')"
   ]
  },
  {
   "cell_type": "code",
   "execution_count": 30,
   "id": "d5006367-cf52-4d26-8501-fa36155d8167",
   "metadata": {},
   "outputs": [
    {
     "data": {
      "text/html": [
       "<div>\n",
       "<style scoped>\n",
       "    .dataframe tbody tr th:only-of-type {\n",
       "        vertical-align: middle;\n",
       "    }\n",
       "\n",
       "    .dataframe tbody tr th {\n",
       "        vertical-align: top;\n",
       "    }\n",
       "\n",
       "    .dataframe thead th {\n",
       "        text-align: right;\n",
       "    }\n",
       "</style>\n",
       "<table border=\"1\" class=\"dataframe\">\n",
       "  <thead>\n",
       "    <tr style=\"text-align: right;\">\n",
       "      <th></th>\n",
       "      <th>Education</th>\n",
       "      <th>Gender</th>\n",
       "      <th>Property_Area</th>\n",
       "      <th>Loan_Status</th>\n",
       "      <th>count</th>\n",
       "    </tr>\n",
       "  </thead>\n",
       "  <tbody>\n",
       "    <tr>\n",
       "      <th>0</th>\n",
       "      <td>Graduate</td>\n",
       "      <td>Female</td>\n",
       "      <td>Rural</td>\n",
       "      <td>N</td>\n",
       "      <td>7</td>\n",
       "    </tr>\n",
       "    <tr>\n",
       "      <th>1</th>\n",
       "      <td>Graduate</td>\n",
       "      <td>Female</td>\n",
       "      <td>Rural</td>\n",
       "      <td>Y</td>\n",
       "      <td>8</td>\n",
       "    </tr>\n",
       "    <tr>\n",
       "      <th>2</th>\n",
       "      <td>Graduate</td>\n",
       "      <td>Female</td>\n",
       "      <td>Semiurban</td>\n",
       "      <td>N</td>\n",
       "      <td>11</td>\n",
       "    </tr>\n",
       "    <tr>\n",
       "      <th>3</th>\n",
       "      <td>Graduate</td>\n",
       "      <td>Female</td>\n",
       "      <td>Semiurban</td>\n",
       "      <td>Y</td>\n",
       "      <td>26</td>\n",
       "    </tr>\n",
       "    <tr>\n",
       "      <th>4</th>\n",
       "      <td>Graduate</td>\n",
       "      <td>Female</td>\n",
       "      <td>Urban</td>\n",
       "      <td>N</td>\n",
       "      <td>11</td>\n",
       "    </tr>\n",
       "    <tr>\n",
       "      <th>5</th>\n",
       "      <td>Graduate</td>\n",
       "      <td>Female</td>\n",
       "      <td>Urban</td>\n",
       "      <td>Y</td>\n",
       "      <td>12</td>\n",
       "    </tr>\n",
       "    <tr>\n",
       "      <th>6</th>\n",
       "      <td>Graduate</td>\n",
       "      <td>Male</td>\n",
       "      <td>Rural</td>\n",
       "      <td>N</td>\n",
       "      <td>31</td>\n",
       "    </tr>\n",
       "    <tr>\n",
       "      <th>7</th>\n",
       "      <td>Graduate</td>\n",
       "      <td>Male</td>\n",
       "      <td>Rural</td>\n",
       "      <td>Y</td>\n",
       "      <td>63</td>\n",
       "    </tr>\n",
       "    <tr>\n",
       "      <th>8</th>\n",
       "      <td>Graduate</td>\n",
       "      <td>Male</td>\n",
       "      <td>Semiurban</td>\n",
       "      <td>N</td>\n",
       "      <td>27</td>\n",
       "    </tr>\n",
       "    <tr>\n",
       "      <th>9</th>\n",
       "      <td>Graduate</td>\n",
       "      <td>Male</td>\n",
       "      <td>Semiurban</td>\n",
       "      <td>Y</td>\n",
       "      <td>99</td>\n",
       "    </tr>\n",
       "    <tr>\n",
       "      <th>10</th>\n",
       "      <td>Graduate</td>\n",
       "      <td>Male</td>\n",
       "      <td>Urban</td>\n",
       "      <td>N</td>\n",
       "      <td>32</td>\n",
       "    </tr>\n",
       "    <tr>\n",
       "      <th>11</th>\n",
       "      <td>Graduate</td>\n",
       "      <td>Male</td>\n",
       "      <td>Urban</td>\n",
       "      <td>Y</td>\n",
       "      <td>75</td>\n",
       "    </tr>\n",
       "    <tr>\n",
       "      <th>12</th>\n",
       "      <td>Not Graduate</td>\n",
       "      <td>Female</td>\n",
       "      <td>Rural</td>\n",
       "      <td>N</td>\n",
       "      <td>2</td>\n",
       "    </tr>\n",
       "    <tr>\n",
       "      <th>13</th>\n",
       "      <td>Not Graduate</td>\n",
       "      <td>Female</td>\n",
       "      <td>Rural</td>\n",
       "      <td>Y</td>\n",
       "      <td>3</td>\n",
       "    </tr>\n",
       "    <tr>\n",
       "      <th>14</th>\n",
       "      <td>Not Graduate</td>\n",
       "      <td>Female</td>\n",
       "      <td>Semiurban</td>\n",
       "      <td>N</td>\n",
       "      <td>2</td>\n",
       "    </tr>\n",
       "    <tr>\n",
       "      <th>15</th>\n",
       "      <td>Not Graduate</td>\n",
       "      <td>Female</td>\n",
       "      <td>Semiurban</td>\n",
       "      <td>Y</td>\n",
       "      <td>5</td>\n",
       "    </tr>\n",
       "    <tr>\n",
       "      <th>16</th>\n",
       "      <td>Not Graduate</td>\n",
       "      <td>Female</td>\n",
       "      <td>Urban</td>\n",
       "      <td>Y</td>\n",
       "      <td>1</td>\n",
       "    </tr>\n",
       "    <tr>\n",
       "      <th>17</th>\n",
       "      <td>Not Graduate</td>\n",
       "      <td>Male</td>\n",
       "      <td>Rural</td>\n",
       "      <td>N</td>\n",
       "      <td>17</td>\n",
       "    </tr>\n",
       "    <tr>\n",
       "      <th>18</th>\n",
       "      <td>Not Graduate</td>\n",
       "      <td>Male</td>\n",
       "      <td>Rural</td>\n",
       "      <td>Y</td>\n",
       "      <td>14</td>\n",
       "    </tr>\n",
       "    <tr>\n",
       "      <th>19</th>\n",
       "      <td>Not Graduate</td>\n",
       "      <td>Male</td>\n",
       "      <td>Semiurban</td>\n",
       "      <td>N</td>\n",
       "      <td>6</td>\n",
       "    </tr>\n",
       "    <tr>\n",
       "      <th>20</th>\n",
       "      <td>Not Graduate</td>\n",
       "      <td>Male</td>\n",
       "      <td>Semiurban</td>\n",
       "      <td>Y</td>\n",
       "      <td>24</td>\n",
       "    </tr>\n",
       "    <tr>\n",
       "      <th>21</th>\n",
       "      <td>Not Graduate</td>\n",
       "      <td>Male</td>\n",
       "      <td>Urban</td>\n",
       "      <td>N</td>\n",
       "      <td>13</td>\n",
       "    </tr>\n",
       "    <tr>\n",
       "      <th>22</th>\n",
       "      <td>Not Graduate</td>\n",
       "      <td>Male</td>\n",
       "      <td>Urban</td>\n",
       "      <td>Y</td>\n",
       "      <td>15</td>\n",
       "    </tr>\n",
       "  </tbody>\n",
       "</table>\n",
       "</div>"
      ],
      "text/plain": [
       "       Education  Gender Property_Area Loan_Status  count\n",
       "0       Graduate  Female         Rural           N      7\n",
       "1       Graduate  Female         Rural           Y      8\n",
       "2       Graduate  Female     Semiurban           N     11\n",
       "3       Graduate  Female     Semiurban           Y     26\n",
       "4       Graduate  Female         Urban           N     11\n",
       "5       Graduate  Female         Urban           Y     12\n",
       "6       Graduate    Male         Rural           N     31\n",
       "7       Graduate    Male         Rural           Y     63\n",
       "8       Graduate    Male     Semiurban           N     27\n",
       "9       Graduate    Male     Semiurban           Y     99\n",
       "10      Graduate    Male         Urban           N     32\n",
       "11      Graduate    Male         Urban           Y     75\n",
       "12  Not Graduate  Female         Rural           N      2\n",
       "13  Not Graduate  Female         Rural           Y      3\n",
       "14  Not Graduate  Female     Semiurban           N      2\n",
       "15  Not Graduate  Female     Semiurban           Y      5\n",
       "16  Not Graduate  Female         Urban           Y      1\n",
       "17  Not Graduate    Male         Rural           N     17\n",
       "18  Not Graduate    Male         Rural           Y     14\n",
       "19  Not Graduate    Male     Semiurban           N      6\n",
       "20  Not Graduate    Male     Semiurban           Y     24\n",
       "21  Not Graduate    Male         Urban           N     13\n",
       "22  Not Graduate    Male         Urban           Y     15"
      ]
     },
     "execution_count": 30,
     "metadata": {},
     "output_type": "execute_result"
    }
   ],
   "source": [
    "group_byEdu = df.groupby(['Education','Gender','Property_Area','Loan_Status']).size().reset_index(name='count')\n",
    "group_byEdu"
   ]
  },
  {
   "cell_type": "code",
   "execution_count": 31,
   "id": "60239036-9818-449a-9121-4649aacd2cda",
   "metadata": {},
   "outputs": [
    {
     "data": {
      "text/html": [
       "<div>\n",
       "<style scoped>\n",
       "    .dataframe tbody tr th:only-of-type {\n",
       "        vertical-align: middle;\n",
       "    }\n",
       "\n",
       "    .dataframe tbody tr th {\n",
       "        vertical-align: top;\n",
       "    }\n",
       "\n",
       "    .dataframe thead th {\n",
       "        text-align: right;\n",
       "    }\n",
       "</style>\n",
       "<table border=\"1\" class=\"dataframe\">\n",
       "  <thead>\n",
       "    <tr style=\"text-align: right;\">\n",
       "      <th></th>\n",
       "      <th>Education</th>\n",
       "      <th>Gender</th>\n",
       "      <th>Property_Area</th>\n",
       "      <th>Loan_Status</th>\n",
       "      <th>count</th>\n",
       "      <th>Group</th>\n",
       "    </tr>\n",
       "  </thead>\n",
       "  <tbody>\n",
       "    <tr>\n",
       "      <th>0</th>\n",
       "      <td>Graduate</td>\n",
       "      <td>Female</td>\n",
       "      <td>Rural</td>\n",
       "      <td>N</td>\n",
       "      <td>7</td>\n",
       "      <td>Graduate-Female-Rural</td>\n",
       "    </tr>\n",
       "    <tr>\n",
       "      <th>1</th>\n",
       "      <td>Graduate</td>\n",
       "      <td>Female</td>\n",
       "      <td>Rural</td>\n",
       "      <td>Y</td>\n",
       "      <td>8</td>\n",
       "      <td>Graduate-Female-Rural</td>\n",
       "    </tr>\n",
       "    <tr>\n",
       "      <th>2</th>\n",
       "      <td>Graduate</td>\n",
       "      <td>Female</td>\n",
       "      <td>Semiurban</td>\n",
       "      <td>N</td>\n",
       "      <td>11</td>\n",
       "      <td>Graduate-Female-Semiurban</td>\n",
       "    </tr>\n",
       "    <tr>\n",
       "      <th>3</th>\n",
       "      <td>Graduate</td>\n",
       "      <td>Female</td>\n",
       "      <td>Semiurban</td>\n",
       "      <td>Y</td>\n",
       "      <td>26</td>\n",
       "      <td>Graduate-Female-Semiurban</td>\n",
       "    </tr>\n",
       "    <tr>\n",
       "      <th>4</th>\n",
       "      <td>Graduate</td>\n",
       "      <td>Female</td>\n",
       "      <td>Urban</td>\n",
       "      <td>N</td>\n",
       "      <td>11</td>\n",
       "      <td>Graduate-Female-Urban</td>\n",
       "    </tr>\n",
       "    <tr>\n",
       "      <th>5</th>\n",
       "      <td>Graduate</td>\n",
       "      <td>Female</td>\n",
       "      <td>Urban</td>\n",
       "      <td>Y</td>\n",
       "      <td>12</td>\n",
       "      <td>Graduate-Female-Urban</td>\n",
       "    </tr>\n",
       "    <tr>\n",
       "      <th>6</th>\n",
       "      <td>Graduate</td>\n",
       "      <td>Male</td>\n",
       "      <td>Rural</td>\n",
       "      <td>N</td>\n",
       "      <td>31</td>\n",
       "      <td>Graduate-Male-Rural</td>\n",
       "    </tr>\n",
       "    <tr>\n",
       "      <th>7</th>\n",
       "      <td>Graduate</td>\n",
       "      <td>Male</td>\n",
       "      <td>Rural</td>\n",
       "      <td>Y</td>\n",
       "      <td>63</td>\n",
       "      <td>Graduate-Male-Rural</td>\n",
       "    </tr>\n",
       "    <tr>\n",
       "      <th>8</th>\n",
       "      <td>Graduate</td>\n",
       "      <td>Male</td>\n",
       "      <td>Semiurban</td>\n",
       "      <td>N</td>\n",
       "      <td>27</td>\n",
       "      <td>Graduate-Male-Semiurban</td>\n",
       "    </tr>\n",
       "    <tr>\n",
       "      <th>9</th>\n",
       "      <td>Graduate</td>\n",
       "      <td>Male</td>\n",
       "      <td>Semiurban</td>\n",
       "      <td>Y</td>\n",
       "      <td>99</td>\n",
       "      <td>Graduate-Male-Semiurban</td>\n",
       "    </tr>\n",
       "    <tr>\n",
       "      <th>10</th>\n",
       "      <td>Graduate</td>\n",
       "      <td>Male</td>\n",
       "      <td>Urban</td>\n",
       "      <td>N</td>\n",
       "      <td>32</td>\n",
       "      <td>Graduate-Male-Urban</td>\n",
       "    </tr>\n",
       "    <tr>\n",
       "      <th>11</th>\n",
       "      <td>Graduate</td>\n",
       "      <td>Male</td>\n",
       "      <td>Urban</td>\n",
       "      <td>Y</td>\n",
       "      <td>75</td>\n",
       "      <td>Graduate-Male-Urban</td>\n",
       "    </tr>\n",
       "    <tr>\n",
       "      <th>12</th>\n",
       "      <td>Not Graduate</td>\n",
       "      <td>Female</td>\n",
       "      <td>Rural</td>\n",
       "      <td>N</td>\n",
       "      <td>2</td>\n",
       "      <td>Not Graduate-Female-Rural</td>\n",
       "    </tr>\n",
       "    <tr>\n",
       "      <th>13</th>\n",
       "      <td>Not Graduate</td>\n",
       "      <td>Female</td>\n",
       "      <td>Rural</td>\n",
       "      <td>Y</td>\n",
       "      <td>3</td>\n",
       "      <td>Not Graduate-Female-Rural</td>\n",
       "    </tr>\n",
       "    <tr>\n",
       "      <th>14</th>\n",
       "      <td>Not Graduate</td>\n",
       "      <td>Female</td>\n",
       "      <td>Semiurban</td>\n",
       "      <td>N</td>\n",
       "      <td>2</td>\n",
       "      <td>Not Graduate-Female-Semiurban</td>\n",
       "    </tr>\n",
       "    <tr>\n",
       "      <th>15</th>\n",
       "      <td>Not Graduate</td>\n",
       "      <td>Female</td>\n",
       "      <td>Semiurban</td>\n",
       "      <td>Y</td>\n",
       "      <td>5</td>\n",
       "      <td>Not Graduate-Female-Semiurban</td>\n",
       "    </tr>\n",
       "    <tr>\n",
       "      <th>16</th>\n",
       "      <td>Not Graduate</td>\n",
       "      <td>Female</td>\n",
       "      <td>Urban</td>\n",
       "      <td>Y</td>\n",
       "      <td>1</td>\n",
       "      <td>Not Graduate-Female-Urban</td>\n",
       "    </tr>\n",
       "    <tr>\n",
       "      <th>17</th>\n",
       "      <td>Not Graduate</td>\n",
       "      <td>Male</td>\n",
       "      <td>Rural</td>\n",
       "      <td>N</td>\n",
       "      <td>17</td>\n",
       "      <td>Not Graduate-Male-Rural</td>\n",
       "    </tr>\n",
       "    <tr>\n",
       "      <th>18</th>\n",
       "      <td>Not Graduate</td>\n",
       "      <td>Male</td>\n",
       "      <td>Rural</td>\n",
       "      <td>Y</td>\n",
       "      <td>14</td>\n",
       "      <td>Not Graduate-Male-Rural</td>\n",
       "    </tr>\n",
       "    <tr>\n",
       "      <th>19</th>\n",
       "      <td>Not Graduate</td>\n",
       "      <td>Male</td>\n",
       "      <td>Semiurban</td>\n",
       "      <td>N</td>\n",
       "      <td>6</td>\n",
       "      <td>Not Graduate-Male-Semiurban</td>\n",
       "    </tr>\n",
       "    <tr>\n",
       "      <th>20</th>\n",
       "      <td>Not Graduate</td>\n",
       "      <td>Male</td>\n",
       "      <td>Semiurban</td>\n",
       "      <td>Y</td>\n",
       "      <td>24</td>\n",
       "      <td>Not Graduate-Male-Semiurban</td>\n",
       "    </tr>\n",
       "    <tr>\n",
       "      <th>21</th>\n",
       "      <td>Not Graduate</td>\n",
       "      <td>Male</td>\n",
       "      <td>Urban</td>\n",
       "      <td>N</td>\n",
       "      <td>13</td>\n",
       "      <td>Not Graduate-Male-Urban</td>\n",
       "    </tr>\n",
       "    <tr>\n",
       "      <th>22</th>\n",
       "      <td>Not Graduate</td>\n",
       "      <td>Male</td>\n",
       "      <td>Urban</td>\n",
       "      <td>Y</td>\n",
       "      <td>15</td>\n",
       "      <td>Not Graduate-Male-Urban</td>\n",
       "    </tr>\n",
       "  </tbody>\n",
       "</table>\n",
       "</div>"
      ],
      "text/plain": [
       "       Education  Gender Property_Area Loan_Status  count  \\\n",
       "0       Graduate  Female         Rural           N      7   \n",
       "1       Graduate  Female         Rural           Y      8   \n",
       "2       Graduate  Female     Semiurban           N     11   \n",
       "3       Graduate  Female     Semiurban           Y     26   \n",
       "4       Graduate  Female         Urban           N     11   \n",
       "5       Graduate  Female         Urban           Y     12   \n",
       "6       Graduate    Male         Rural           N     31   \n",
       "7       Graduate    Male         Rural           Y     63   \n",
       "8       Graduate    Male     Semiurban           N     27   \n",
       "9       Graduate    Male     Semiurban           Y     99   \n",
       "10      Graduate    Male         Urban           N     32   \n",
       "11      Graduate    Male         Urban           Y     75   \n",
       "12  Not Graduate  Female         Rural           N      2   \n",
       "13  Not Graduate  Female         Rural           Y      3   \n",
       "14  Not Graduate  Female     Semiurban           N      2   \n",
       "15  Not Graduate  Female     Semiurban           Y      5   \n",
       "16  Not Graduate  Female         Urban           Y      1   \n",
       "17  Not Graduate    Male         Rural           N     17   \n",
       "18  Not Graduate    Male         Rural           Y     14   \n",
       "19  Not Graduate    Male     Semiurban           N      6   \n",
       "20  Not Graduate    Male     Semiurban           Y     24   \n",
       "21  Not Graduate    Male         Urban           N     13   \n",
       "22  Not Graduate    Male         Urban           Y     15   \n",
       "\n",
       "                            Group  \n",
       "0           Graduate-Female-Rural  \n",
       "1           Graduate-Female-Rural  \n",
       "2       Graduate-Female-Semiurban  \n",
       "3       Graduate-Female-Semiurban  \n",
       "4           Graduate-Female-Urban  \n",
       "5           Graduate-Female-Urban  \n",
       "6             Graduate-Male-Rural  \n",
       "7             Graduate-Male-Rural  \n",
       "8         Graduate-Male-Semiurban  \n",
       "9         Graduate-Male-Semiurban  \n",
       "10            Graduate-Male-Urban  \n",
       "11            Graduate-Male-Urban  \n",
       "12      Not Graduate-Female-Rural  \n",
       "13      Not Graduate-Female-Rural  \n",
       "14  Not Graduate-Female-Semiurban  \n",
       "15  Not Graduate-Female-Semiurban  \n",
       "16      Not Graduate-Female-Urban  \n",
       "17        Not Graduate-Male-Rural  \n",
       "18        Not Graduate-Male-Rural  \n",
       "19    Not Graduate-Male-Semiurban  \n",
       "20    Not Graduate-Male-Semiurban  \n",
       "21        Not Graduate-Male-Urban  \n",
       "22        Not Graduate-Male-Urban  "
      ]
     },
     "execution_count": 31,
     "metadata": {},
     "output_type": "execute_result"
    }
   ],
   "source": [
    "group_byEdu['Group'] = group_byEdu['Education'] +'-'+ group_byEdu['Gender'] +'-'+ group_byEdu['Property_Area']\n",
    "group_byEdu"
   ]
  },
  {
   "cell_type": "code",
   "execution_count": 32,
   "id": "ad794a5e-680e-4d48-ac1d-56726cc733ec",
   "metadata": {},
   "outputs": [
    {
     "data": {
      "text/plain": [
       "<Axes: xlabel='count', ylabel='Group'>"
      ]
     },
     "execution_count": 32,
     "metadata": {},
     "output_type": "execute_result"
    },
    {
     "data": {
      "image/png": "[encoded data removed]",
      "text/plain": [
       "<Figure size 640x480 with 1 Axes>"
      ]
     },
     "metadata": {},
     "output_type": "display_data"
    }
   ],
   "source": [
    "sns.barplot(data = group_byEdu,y = 'Group',x = 'count',hue = 'Loan_Status')"
   ]
  },
  {
   "cell_type": "code",
   "execution_count": 33,
   "id": "67e2b545-3d8b-4ba3-a24f-9821eccb01e1",
   "metadata": {},
   "outputs": [
    {
     "data": {
      "text/plain": [
       "1      30.0\n",
       "2      30.0\n",
       "3      30.0\n",
       "4      30.0\n",
       "5      30.0\n",
       "       ... \n",
       "609    30.0\n",
       "610    15.0\n",
       "611    30.0\n",
       "612    30.0\n",
       "613    30.0\n",
       "Name: Duration, Length: 504, dtype: float64"
      ]
     },
     "execution_count": 33,
     "metadata": {},
     "output_type": "execute_result"
    }
   ],
   "source": [
    "df['Duration']=df['Loan_Amount_Term_Year'] = df['Loan_Amount_Term']/12\n",
    "df['Duration']"
   ]
  },
  {
   "cell_type": "code",
   "execution_count": 34,
   "id": "4b62f349-fa65-432c-85b5-6af104353ee5",
   "metadata": {},
   "outputs": [
    {
     "data": {
      "text/plain": [
       "<Axes: xlabel='Duration', ylabel='LoanAmount'>"
      ]
     },
     "execution_count": 34,
     "metadata": {},
     "output_type": "execute_result"
    },
    {
     "data": {
      "image/png": "[encoded data removed]",
      "text/plain": [
       "<Figure size 640x480 with 1 Axes>"
      ]
     },
     "metadata": {},
     "output_type": "display_data"
    }
   ],
   "source": [
    "sns.barplot(data=df,x='Duration',y='LoanAmount')"
   ]
  },
  {
   "cell_type": "code",
   "execution_count": 35,
   "id": "9d1d2ce2-4848-47a8-b66f-e90b06b7f7cf",
   "metadata": {},
   "outputs": [
    {
     "data": {
      "text/plain": [
       "1      30.0\n",
       "2      30.0\n",
       "3      30.0\n",
       "4      30.0\n",
       "5      30.0\n",
       "       ... \n",
       "609    30.0\n",
       "610    15.0\n",
       "611    30.0\n",
       "612    30.0\n",
       "613    30.0\n",
       "Name: Duration, Length: 504, dtype: object"
      ]
     },
     "execution_count": 35,
     "metadata": {},
     "output_type": "execute_result"
    }
   ],
   "source": [
    "# conver Duration into dtype\n",
    "df['Duration'] = df['Duration'].astype(str)\n",
    "df['Duration']"
   ]
  },
  {
   "cell_type": "code",
   "execution_count": 36,
   "id": "9bcf5651-72e8-487e-90b0-a7491d97b5ff",
   "metadata": {},
   "outputs": [
    {
     "data": {
      "text/html": [
       "<div>\n",
       "<style scoped>\n",
       "    .dataframe tbody tr th:only-of-type {\n",
       "        vertical-align: middle;\n",
       "    }\n",
       "\n",
       "    .dataframe tbody tr th {\n",
       "        vertical-align: top;\n",
       "    }\n",
       "\n",
       "    .dataframe thead th {\n",
       "        text-align: right;\n",
       "    }\n",
       "</style>\n",
       "<table border=\"1\" class=\"dataframe\">\n",
       "  <thead>\n",
       "    <tr style=\"text-align: right;\">\n",
       "      <th></th>\n",
       "      <th>Education</th>\n",
       "      <th>Gender</th>\n",
       "      <th>Property_Area</th>\n",
       "      <th>Loan_Status</th>\n",
       "      <th>Duration</th>\n",
       "      <th>count</th>\n",
       "      <th>Group</th>\n",
       "    </tr>\n",
       "  </thead>\n",
       "  <tbody>\n",
       "    <tr>\n",
       "      <th>0</th>\n",
       "      <td>Graduate</td>\n",
       "      <td>Female</td>\n",
       "      <td>Rural</td>\n",
       "      <td>N</td>\n",
       "      <td>30.0</td>\n",
       "      <td>6</td>\n",
       "      <td>Graduate-Female-Rural-30.0</td>\n",
       "    </tr>\n",
       "    <tr>\n",
       "      <th>1</th>\n",
       "      <td>Graduate</td>\n",
       "      <td>Female</td>\n",
       "      <td>Rural</td>\n",
       "      <td>N</td>\n",
       "      <td>40.0</td>\n",
       "      <td>1</td>\n",
       "      <td>Graduate-Female-Rural-40.0</td>\n",
       "    </tr>\n",
       "    <tr>\n",
       "      <th>2</th>\n",
       "      <td>Graduate</td>\n",
       "      <td>Female</td>\n",
       "      <td>Rural</td>\n",
       "      <td>Y</td>\n",
       "      <td>30.0</td>\n",
       "      <td>7</td>\n",
       "      <td>Graduate-Female-Rural-30.0</td>\n",
       "    </tr>\n",
       "    <tr>\n",
       "      <th>3</th>\n",
       "      <td>Graduate</td>\n",
       "      <td>Female</td>\n",
       "      <td>Rural</td>\n",
       "      <td>Y</td>\n",
       "      <td>40.0</td>\n",
       "      <td>1</td>\n",
       "      <td>Graduate-Female-Rural-40.0</td>\n",
       "    </tr>\n",
       "    <tr>\n",
       "      <th>4</th>\n",
       "      <td>Graduate</td>\n",
       "      <td>Female</td>\n",
       "      <td>Semiurban</td>\n",
       "      <td>N</td>\n",
       "      <td>25.0</td>\n",
       "      <td>1</td>\n",
       "      <td>Graduate-Female-Semiurban-25.0</td>\n",
       "    </tr>\n",
       "    <tr>\n",
       "      <th>...</th>\n",
       "      <td>...</td>\n",
       "      <td>...</td>\n",
       "      <td>...</td>\n",
       "      <td>...</td>\n",
       "      <td>...</td>\n",
       "      <td>...</td>\n",
       "      <td>...</td>\n",
       "    </tr>\n",
       "    <tr>\n",
       "      <th>60</th>\n",
       "      <td>Not Graduate</td>\n",
       "      <td>Male</td>\n",
       "      <td>Urban</td>\n",
       "      <td>N</td>\n",
       "      <td>30.0</td>\n",
       "      <td>7</td>\n",
       "      <td>Not Graduate-Male-Urban-30.0</td>\n",
       "    </tr>\n",
       "    <tr>\n",
       "      <th>61</th>\n",
       "      <td>Not Graduate</td>\n",
       "      <td>Male</td>\n",
       "      <td>Urban</td>\n",
       "      <td>N</td>\n",
       "      <td>40.0</td>\n",
       "      <td>2</td>\n",
       "      <td>Not Graduate-Male-Urban-40.0</td>\n",
       "    </tr>\n",
       "    <tr>\n",
       "      <th>62</th>\n",
       "      <td>Not Graduate</td>\n",
       "      <td>Male</td>\n",
       "      <td>Urban</td>\n",
       "      <td>Y</td>\n",
       "      <td>15.0</td>\n",
       "      <td>4</td>\n",
       "      <td>Not Graduate-Male-Urban-15.0</td>\n",
       "    </tr>\n",
       "    <tr>\n",
       "      <th>63</th>\n",
       "      <td>Not Graduate</td>\n",
       "      <td>Male</td>\n",
       "      <td>Urban</td>\n",
       "      <td>Y</td>\n",
       "      <td>30.0</td>\n",
       "      <td>10</td>\n",
       "      <td>Not Graduate-Male-Urban-30.0</td>\n",
       "    </tr>\n",
       "    <tr>\n",
       "      <th>64</th>\n",
       "      <td>Not Graduate</td>\n",
       "      <td>Male</td>\n",
       "      <td>Urban</td>\n",
       "      <td>Y</td>\n",
       "      <td>5.0</td>\n",
       "      <td>1</td>\n",
       "      <td>Not Graduate-Male-Urban-5.0</td>\n",
       "    </tr>\n",
       "  </tbody>\n",
       "</table>\n",
       "<p>65 rows × 7 columns</p>\n",
       "</div>"
      ],
      "text/plain": [
       "       Education  Gender Property_Area Loan_Status Duration  count  \\\n",
       "0       Graduate  Female         Rural           N     30.0      6   \n",
       "1       Graduate  Female         Rural           N     40.0      1   \n",
       "2       Graduate  Female         Rural           Y     30.0      7   \n",
       "3       Graduate  Female         Rural           Y     40.0      1   \n",
       "4       Graduate  Female     Semiurban           N     25.0      1   \n",
       "..           ...     ...           ...         ...      ...    ...   \n",
       "60  Not Graduate    Male         Urban           N     30.0      7   \n",
       "61  Not Graduate    Male         Urban           N     40.0      2   \n",
       "62  Not Graduate    Male         Urban           Y     15.0      4   \n",
       "63  Not Graduate    Male         Urban           Y     30.0     10   \n",
       "64  Not Graduate    Male         Urban           Y      5.0      1   \n",
       "\n",
       "                             Group  \n",
       "0       Graduate-Female-Rural-30.0  \n",
       "1       Graduate-Female-Rural-40.0  \n",
       "2       Graduate-Female-Rural-30.0  \n",
       "3       Graduate-Female-Rural-40.0  \n",
       "4   Graduate-Female-Semiurban-25.0  \n",
       "..                             ...  \n",
       "60    Not Graduate-Male-Urban-30.0  \n",
       "61    Not Graduate-Male-Urban-40.0  \n",
       "62    Not Graduate-Male-Urban-15.0  \n",
       "63    Not Graduate-Male-Urban-30.0  \n",
       "64     Not Graduate-Male-Urban-5.0  \n",
       "\n",
       "[65 rows x 7 columns]"
      ]
     },
     "execution_count": 36,
     "metadata": {},
     "output_type": "execute_result"
    }
   ],
   "source": [
    "group_Duration = df.groupby(['Education','Gender','Property_Area','Loan_Status','Duration']).size().reset_index(name='count')\n",
    "group_Duration\n",
    "group_Duration['Group'] = group_Duration['Education'] +'-'+ group_Duration['Gender'] +'-'+ group_Duration['Property_Area']+'-'+group_Duration['Duration']\n",
    "group_Duration"
   ]
  },
  {
   "cell_type": "code",
   "execution_count": 37,
   "id": "cdf07a6e-70cf-40d1-962e-d514fbf3cac3",
   "metadata": {},
   "outputs": [
    {
     "data": {
      "text/plain": [
       "<Axes: xlabel='Duration', ylabel='count'>"
      ]
     },
     "execution_count": 37,
     "metadata": {},
     "output_type": "execute_result"
    },
    {
     "data": {
      "image/png": "[encoded data removed]",
      "text/plain": [
       "<Figure size 640x480 with 1 Axes>"
      ]
     },
     "metadata": {},
     "output_type": "display_data"
    }
   ],
   "source": [
    "sns.countplot(data =df,x='Duration',hue = 'Loan_Status')"
   ]
  },
  {
   "cell_type": "code",
   "execution_count": null,
   "id": "ad70d366-10d3-4ec9-a104-b3ea0764c459",
   "metadata": {},
   "outputs": [],
   "source": []
  },
  {
   "cell_type": "code",
   "execution_count": null,
   "id": "28978916-8e7c-4ec7-b3b0-1266140b2c92",
   "metadata": {},
   "outputs": [],
   "source": []
  },
  {
   "cell_type": "code",
   "execution_count": null,
   "id": "dcccd3b3-de15-49fc-aa3a-e334f882a431",
   "metadata": {},
   "outputs": [],
   "source": []
  },
  {
   "cell_type": "code",
   "execution_count": null,
   "id": "86f6db20-6561-4267-bbe8-8e76afb0716c",
   "metadata": {},
   "outputs": [],
   "source": []
  },
  {
   "cell_type": "code",
   "execution_count": null,
   "id": "221cefd1-67aa-46d4-8dd8-fec1732598fa",
   "metadata": {},
   "outputs": [],
   "source": []
  },
  {
   "cell_type": "code",
   "execution_count": null,
   "id": "13a1954e-d7dc-41ac-a660-bc7563fd3b52",
   "metadata": {},
   "outputs": [],
   "source": []
  },
  {
   "cell_type": "code",
   "execution_count": 38,
   "id": "a8c2f6c0-dea3-4997-bfb4-4688ecf5ea45",
   "metadata": {},
   "outputs": [],
   "source": [
    "# q1= df['ApplicantIncome'].quantile(0.25)\n",
    "# q3= df['ApplicantIncome'].quantile(0.75)\n",
    "# iqr= q3-q1\n",
    "# lf= q1- 1.5*iqr\n",
    "# uf= q3+ 1.5*iqr\n",
    "# outliers= df[(df['ApplicantIncome']<lf) | (df['ApplicantIncome']>uf)]\n",
    "# print(\"Percentage of outliers in\", df['ApplicantIncome'] ,outliers.shape[0]*100/df.shape[0])\n",
    "# fig, ax= plt.subplots(1,2, figsize=(6,4))\n",
    "# ax[0].boxplot(df['ApplicantIncome'])\n",
    "# ax[1].hist(df['ApplicantIncome'])\n",
    "# plt.show()\n",
    "# df.loc[(df['ApplicantIncome']<lf) | (df['ApplicantIncome']>uf),df['ApplicantIncome']]= df['ApplicantIncome'].median()"
   ]
  },
  {
   "cell_type": "code",
   "execution_count": 39,
   "id": "861f953f-1dee-4f44-a50b-90c7f421cfc4",
   "metadata": {},
   "outputs": [],
   "source": [
    "# q1= df['CoapplicantIncome'].quantile(0.25)\n",
    "# q3= df['CoapplicantIncome'].quantile(0.75)\n",
    "# iqr= q3-q1\n",
    "# lf= q1- 1.5*iqr\n",
    "# uf= q3+ 1.5*iqr\n",
    "# outliers= df[(df['CoapplicantIncome']<lf) | (df['CoapplicantIncome']>uf)]\n",
    "# print(\"Percentage of outliers in\", df['CoapplicantIncome'] ,outliers.shape[0]*100/df.shape[0])\n",
    "# fig, ax= plt.subplots(1,2, figsize=(6,4))\n",
    "# ax[0].boxplot(df['CoapplicantIncome'])\n",
    "# ax[1].hist(df['CoapplicantIncome'])\n",
    "# plt.show()\n",
    "# df.loc[(df['CoapplicantIncome']<lf) | (df['CoapplicantIncome']>uf),df['CoapplicantIncome']]= df['CoapplicantIncome'].median()"
   ]
  },
  {
   "cell_type": "code",
   "execution_count": 40,
   "id": "2714a9a6-02a5-4dbb-8696-e7d1c80a5074",
   "metadata": {},
   "outputs": [],
   "source": [
    "# q1= df['LoanAmount'].quantile(0.25)\n",
    "# q3= df['LoanAmount'].quantile(0.75)\n",
    "# iqr= q3-q1\n",
    "# lf= q1- 1.5*iqr\n",
    "# uf= q3+ 1.5*iqr\n",
    "# outliers= df[(df['LoanAmount']<lf) | (df['LoanAmount']>uf)]\n",
    "# print(\"Percentage of outliers in\", df['LoanAmount'] ,outliers.shape[0]*100/df.shape[0])\n",
    "# fig, ax= plt.subplots(1,2, figsize=(6,4))\n",
    "# ax[0].boxplot(df['LoanAmount'])\n",
    "# ax[1].hist(df['LoanAmount'])\n",
    "# plt.show()\n",
    "# df.loc[(df['LoanAmount']<lf) | (df['LoanAmount']>uf),df['LoanAmount']]= df['LoanAmount'].median()"
   ]
  },
  {
   "cell_type": "code",
   "execution_count": 41,
   "id": "1bb175c3-1ea5-44fe-8972-3ae74c8aad1e",
   "metadata": {},
   "outputs": [],
   "source": [
    "# sns.heatmap(df.loc[:,num].corr(),annot = True)"
   ]
  }
 ],
 "metadata": {
  "kernelspec": {
   "display_name": "Python 3 (ipykernel)",
   "language": "python",
   "name": "python3"
  },
  "language_info": {
   "codemirror_mode": {
    "name": "ipython",
    "version": 3
   },
   "file_extension": ".py",
   "mimetype": "text/x-python",
   "name": "python",
   "nbconvert_exporter": "python",
   "pygments_lexer": "ipython3",
   "version": "3.11.7"
  }
 },
 "nbformat": 4,
 "nbformat_minor": 5
}
